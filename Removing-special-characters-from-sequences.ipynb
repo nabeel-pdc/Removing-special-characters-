{
  "nbformat": 4,
  "nbformat_minor": 0,
  "metadata": {
    "colab": {
      "provenance": [],
      "mount_file_id": "16jCWrhm6W_CJbjVUxuHFybWwQOAK6evS",
      "authorship_tag": "ABX9TyMmvqK3N58DCA8beNrNmT9c",
      "include_colab_link": true
    },
    "kernelspec": {
      "name": "python3",
      "display_name": "Python 3"
    },
    "language_info": {
      "name": "python"
    }
  },
  "cells": [
    {
      "cell_type": "markdown",
      "metadata": {
        "id": "view-in-github",
        "colab_type": "text"
      },
      "source": [
        "<a href=\"https://colab.research.google.com/github/nabeel-pdc/Removing-special-characters-/blob/main/Removing-special-characters-from-sequences.ipynb\" target=\"_parent\"><img src=\"https://colab.research.google.com/assets/colab-badge.svg\" alt=\"Open In Colab\"/></a>"
      ]
    },
    {
      "cell_type": "code",
      "execution_count": null,
      "metadata": {
        "colab": {
          "base_uri": "https://localhost:8080/"
        },
        "id": "L13uRshVETwe",
        "outputId": "38cc64ee-242b-4c6a-b4d5-a6033e993c14"
      },
      "outputs": [
        {
          "output_type": "stream",
          "name": "stdout",
          "text": [
            "Filtering complete.\n"
          ]
        }
      ],
      "source": [
        "# Mount Google Drive if the fasta file is stored there\n",
        "from google.colab import drive\n",
        "drive.mount('/content/drive')\n",
        "\n",
        "# Define the path to the input fasta file\n",
        "input_file = '/content/drive/Mydrive/input.fasta'\n",
        "\n",
        "# Define the path to the output fasta file\n",
        "output_file = '/content/drive/MyDrive/output.fasta'\n",
        "\n",
        "# Define the list of unknown nucleotides to be removed, you can add or remove characters that were inserted to sequences due to errors in sequencing \n",
        "unknown_nucleotides = ['N', 'R']\n",
        "\n",
        "# Open the input and output files\n",
        "with open(input_file, 'r') as f_in, open(output_file, 'w') as f_out:\n",
        "\n",
        "  # Initialize the variables to store the header and sequence\n",
        "  header = ''\n",
        "  sequence = ''\n",
        "\n",
        "  # Loop through each line of the input fasta file\n",
        "  for line in f_in:\n",
        "\n",
        "    # Check if the line is a header line\n",
        "    if line.startswith('>'):\n",
        "      \n",
        "      # Write the previous sequence to the output file if it does not contain any unknown nucleotides\n",
        "      if all(nuc not in sequence for nuc in unknown_nucleotides):\n",
        "        f_out.write(header + sequence + '\\n')\n",
        "\n",
        "      # Reset the header and sequence variables for the new entry\n",
        "      header = line\n",
        "      sequence = ''\n",
        "\n",
        "    # If the line is not a header line, append it to the current sequence\n",
        "    else:\n",
        "      sequence += line.strip()\n",
        "\n",
        "  # Write the last sequence to the output file if it does not contain any unknown nucleotides\n",
        "  if all(nuc not in sequence for nuc in unknown_nucleotides):\n",
        "    f_out.write(header + sequence + '\\n')\n",
        "\n",
        "# Print a message to indicate that the filtering is complete\n",
        "print('Filtering complete.')\n"
      ]
    }
  ]
}